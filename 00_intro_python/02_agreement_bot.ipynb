{
  "nbformat": 4,
  "nbformat_minor": 0,
  "metadata": {
    "colab": {
      "provenance": [],
      "authorship_tag": "ABX9TyPBJAv1pGSlEn3lWRUIR4FP",
      "include_colab_link": true
    },
    "kernelspec": {
      "name": "python3",
      "display_name": "Python 3"
    },
    "language_info": {
      "name": "python"
    }
  },
  "cells": [
    {
      "cell_type": "markdown",
      "metadata": {
        "id": "view-in-github",
        "colab_type": "text"
      },
      "source": [
        "<a href=\"https://colab.research.google.com/github/mfsrajput/Python_Assignment/blob/main/00_intro_python/02_agreement_bot.ipynb\" target=\"_parent\"><img src=\"https://colab.research.google.com/assets/colab-badge.svg\" alt=\"Open In Colab\"/></a>"
      ]
    },
    {
      "cell_type": "code",
      "execution_count": 4,
      "metadata": {
        "id": "FxMQ3lWgbWXf",
        "colab": {
          "base_uri": "https://localhost:8080/"
        },
        "outputId": "8796480f-8534-4a0f-cd54-b1694baf3f84"
      },
      "outputs": [
        {
          "output_type": "stream",
          "name": "stdout",
          "text": [
            "What their favorite Animal...\n",
            "Enter your favorite animal: mat\n",
            "My Favorite animal is also mat\n"
          ]
        }
      ],
      "source": [
        "\n",
        "def main ():\n",
        "    print (\"What their favorite Animal...\")\n",
        "    favorite_animal = input (\"Enter your favorite animal: \")\n",
        "    print (f\"My Favorite animal is also {favorite_animal}\")\n",
        "\n",
        "if __name__ == '__main__':\n",
        "      main()"
      ]
    },
    {
      "cell_type": "markdown",
      "source": [
        "Problem Statement\n",
        "Write a program which asks the user what their favorite animal is, and then always responds with \"My favorite animal is also ___!\" (the blank should be filled in with the user-inputted animal, of course).\n",
        "\n",
        "Here's a sample run of the program (user input is in bold italics - note the space between the prompt and the user input!):\n",
        "\n",
        "What's your favorite animal? cow\n",
        "\n",
        "My favorite animal is also cow!"
      ],
      "metadata": {
        "id": "MwzgoxX-1H2w"
      }
    }
  ]
}