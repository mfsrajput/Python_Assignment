{
  "nbformat": 4,
  "nbformat_minor": 0,
  "metadata": {
    "colab": {
      "provenance": [],
      "authorship_tag": "ABX9TyMTEoveC0Q2IREzsqPu9H5Z",
      "include_colab_link": true
    },
    "kernelspec": {
      "name": "python3",
      "display_name": "Python 3"
    },
    "language_info": {
      "name": "python"
    }
  },
  "cells": [
    {
      "cell_type": "markdown",
      "metadata": {
        "id": "view-in-github",
        "colab_type": "text"
      },
      "source": [
        "<a href=\"https://colab.research.google.com/github/mfsrajput/Python_Assignment/blob/main/00_intro_python/05_triangle_perimeter.ipynb\" target=\"_parent\"><img src=\"https://colab.research.google.com/assets/colab-badge.svg\" alt=\"Open In Colab\"/></a>"
      ]
    },
    {
      "cell_type": "code",
      "execution_count": 11,
      "metadata": {
        "id": "FxMQ3lWgbWXf",
        "colab": {
          "base_uri": "https://localhost:8080/"
        },
        "outputId": "d862f56f-6691-481b-c842-96252f33230e"
      },
      "outputs": [
        {
          "output_type": "stream",
          "name": "stdout",
          "text": [
            "What is the length of side 1?30\n",
            "What is the length of side 2?30\n",
            "What is the length of side 3?30\n",
            "The perimeter of the triangle is 90.0\n"
          ]
        }
      ],
      "source": [
        "def main():\n",
        "  # Get the 3 side lengths of the triangle\n",
        "  side1 = float(input(\"What is the length of side 1?\"))\n",
        "  side2 = float(input(\"What is the length of side 2?\"))\n",
        "  side3 = float(input(\"What is the length of side 3?\"))\n",
        "\n",
        "  # Calculate the perimeter of triangle sides\n",
        "  perimeter = side1 + side2 + side3\n",
        "\n",
        "  # Print the perimeter of the triangle\n",
        "  print(\"The perimeter of the triangle is\", perimeter)\n",
        "\n",
        "\n",
        "\n",
        "if __name__ == \"__main__\":\n",
        "  main()"
      ]
    },
    {
      "cell_type": "markdown",
      "source": [
        "Problem Statement\n",
        "Prompt the user to enter the lengths of each side of a triangle and then calculate and print the perimeter of the triangle (the sum of all of the side lengths).\n",
        "\n",
        "Here's a sample run of the program (user input is in bold italics):\n",
        "\n",
        "What is the length of side 1? 3\n",
        "\n",
        "What is the length of side 2? 4\n",
        "\n",
        "What is the length of side 3? 5.5\n",
        "\n",
        "The perimeter of the triangle is 12.5\n",
        "\n"
      ],
      "metadata": {
        "id": "4rL-xmKh8A1E"
      }
    }
  ]
}