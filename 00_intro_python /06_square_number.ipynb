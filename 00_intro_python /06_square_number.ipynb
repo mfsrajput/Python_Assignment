{
  "nbformat": 4,
  "nbformat_minor": 0,
  "metadata": {
    "colab": {
      "provenance": [],
      "authorship_tag": "ABX9TyPmS6seQQxnjaFn2che/21f",
      "include_colab_link": true
    },
    "kernelspec": {
      "name": "python3",
      "display_name": "Python 3"
    },
    "language_info": {
      "name": "python"
    }
  },
  "cells": [
    {
      "cell_type": "markdown",
      "metadata": {
        "id": "view-in-github",
        "colab_type": "text"
      },
      "source": [
        "<a href=\"https://colab.research.google.com/github/mfsrajput/Python_Assignment/blob/main/00_intro_python%20/06_square_number.ipynb\" target=\"_parent\"><img src=\"https://colab.research.google.com/assets/colab-badge.svg\" alt=\"Open In Colab\"/></a>"
      ]
    },
    {
      "cell_type": "code",
      "execution_count": 20,
      "metadata": {
        "id": "FxMQ3lWgbWXf",
        "colab": {
          "base_uri": "https://localhost:8080/"
        },
        "outputId": "9d69294e-1bf1-4278-926d-8de22a6e863e"
      },
      "outputs": [
        {
          "output_type": "stream",
          "name": "stdout",
          "text": [
            "Type a number to see its square:3\n",
            "3.0 squared is 9.0\n",
            "3.0 squared is 9.0\n"
          ]
        }
      ],
      "source": [
        "def main():\n",
        " num : float = float(input(\"Type a number to see its square:\"))\n",
        " print(str(num) +\" \"+ \"squared is\" +\" \"+ str(num **2))\n",
        " print(f\"{num} squared is {num **2}\")\n",
        "\n",
        "\n",
        "\n",
        "if __name__ == \"__main__\":\n",
        "  main()"
      ]
    },
    {
      "cell_type": "markdown",
      "source": [
        "Problem Statement\n",
        "Ask the user for a number and print its square (the product of the number times itself).\n",
        "\n",
        "Here's a sample run of the program (user input is in bold italics):\n",
        "\n",
        "Type a number to see its square: 4\n",
        "\n",
        "4.0 squared is 16.0"
      ],
      "metadata": {
        "id": "4rL-xmKh8A1E"
      }
    }
  ]
}