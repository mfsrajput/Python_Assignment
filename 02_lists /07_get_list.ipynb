{
  "nbformat": 4,
  "nbformat_minor": 0,
  "metadata": {
    "colab": {
      "provenance": [],
      "authorship_tag": "ABX9TyMJbkO3DU3beEzdFXylVcHI",
      "include_colab_link": true
    },
    "kernelspec": {
      "name": "python3",
      "display_name": "Python 3"
    },
    "language_info": {
      "name": "python"
    }
  },
  "cells": [
    {
      "cell_type": "markdown",
      "metadata": {
        "id": "view-in-github",
        "colab_type": "text"
      },
      "source": [
        "<a href=\"https://colab.research.google.com/github/mfsrajput/Python_Assignment/blob/main/02_lists%20/07_get_list.ipynb\" target=\"_parent\"><img src=\"https://colab.research.google.com/assets/colab-badge.svg\" alt=\"Open In Colab\"/></a>"
      ]
    },
    {
      "cell_type": "markdown",
      "source": [
        "Problem Statement\n",
        "\n",
        "Write a program which continuously asks the user to enter values which are added one by one into a list. When the user presses enter without typing anything, print the list.\n",
        "\n",
        "Here's a sample run (user input is in blue):\n",
        "\n",
        "Enter a value: 1 Enter a value: 2 Enter a value: 3 Enter a value: Here's the list: ['1', '2', '3']"
      ],
      "metadata": {
        "id": "ilgq6r2xfton"
      }
    },
    {
      "cell_type": "code",
      "source": [
        "def main ():\n",
        "  # Make an empty list to store things in\n",
        "  lst = []\n",
        "  # Get an initial value\n",
        "  val = input(\"Enter a value:\")\n",
        "  while val:  # While the user input isn't an empty value\n",
        "    lst.append(val)\n",
        "    val = input(\"Enter a value:\")\n",
        "  print(\"Here's the list:\", lst)\n",
        "\n",
        "# There is no need to edit code beyond this point\n",
        "\n",
        "if __name__ == '__main__':\n",
        "    main()\n"
      ],
      "metadata": {
        "colab": {
          "base_uri": "https://localhost:8080/"
        },
        "id": "KjBF1AGZf3nI",
        "outputId": "d77e5d2e-2def-45ab-a6da-bf98159a193c"
      },
      "execution_count": 8,
      "outputs": [
        {
          "output_type": "stream",
          "name": "stdout",
          "text": [
            "Enter a value:1\n",
            "Enter a value:2\n",
            "Enter a value:3\n",
            "Enter a value:4\n",
            "Enter a value:5\n",
            "Enter a value:6\n",
            "Enter a value:7\n",
            "Enter a value:\n",
            "Here's the list: ['1', '2', '3', '4', '5', '6', '7']\n"
          ]
        }
      ]
    }
  ]
}