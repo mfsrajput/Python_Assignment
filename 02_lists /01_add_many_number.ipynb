{
  "nbformat": 4,
  "nbformat_minor": 0,
  "metadata": {
    "colab": {
      "provenance": [],
      "authorship_tag": "ABX9TyN9klshhpJxm2BaJJz4IqMZ",
      "include_colab_link": true
    },
    "kernelspec": {
      "name": "python3",
      "display_name": "Python 3"
    },
    "language_info": {
      "name": "python"
    }
  },
  "cells": [
    {
      "cell_type": "markdown",
      "metadata": {
        "id": "view-in-github",
        "colab_type": "text"
      },
      "source": [
        "<a href=\"https://colab.research.google.com/github/mfsrajput/Python_Assignment/blob/main/02_lists%20/01_add_many_number.ipynb\" target=\"_parent\"><img src=\"https://colab.research.google.com/assets/colab-badge.svg\" alt=\"Open In Colab\"/></a>"
      ]
    },
    {
      "cell_type": "markdown",
      "source": [
        "Problem Statement\n",
        "Write a function that takes a list of numbers and returns the sum of those numbers."
      ],
      "metadata": {
        "id": "CE0dNpE3ZbHg"
      }
    },
    {
      "cell_type": "code",
      "source": [
        "def add_many_numbers(numbers)-> int :\n",
        "    total_so_far: int = 0\n",
        "    for number in numbers:\n",
        "      total_so_far += number\n",
        "    return total_so_far\n",
        "\n",
        "def main():\n",
        "    numbers: list[int] = [1,2,3,4,5,6] # Make a list of numbers\n",
        "    sum_of_numbers: int = add_many_numbers(numbers)  # Find the sum of the list\n",
        "    print(sum_of_numbers)  # Print out the sum above\n",
        "\n",
        "if __name__ == '__main__':\n",
        "    main()"
      ],
      "metadata": {
        "colab": {
          "base_uri": "https://localhost:8080/"
        },
        "id": "MlPEVRDAZb6v",
        "outputId": "4b318af8-6d2d-42d7-c2ab-e0a30e67311e"
      },
      "execution_count": 62,
      "outputs": [
        {
          "output_type": "stream",
          "name": "stdout",
          "text": [
            "21\n"
          ]
        }
      ]
    }
  ]
}