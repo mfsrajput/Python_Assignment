{
  "nbformat": 4,
  "nbformat_minor": 0,
  "metadata": {
    "colab": {
      "provenance": [],
      "authorship_tag": "ABX9TyNDM6VIQEvgYvBaAyOTmD+O",
      "include_colab_link": true
    },
    "kernelspec": {
      "name": "python3",
      "display_name": "Python 3"
    },
    "language_info": {
      "name": "python"
    }
  },
  "cells": [
    {
      "cell_type": "markdown",
      "metadata": {
        "id": "view-in-github",
        "colab_type": "text"
      },
      "source": [
        "<a href=\"https://colab.research.google.com/github/mfsrajput/Python_Assignment/blob/main/02_lists%20/02_double_list.ipynb\" target=\"_parent\"><img src=\"https://colab.research.google.com/assets/colab-badge.svg\" alt=\"Open In Colab\"/></a>"
      ]
    },
    {
      "cell_type": "markdown",
      "source": [
        "Problem Statement\n",
        "Write a program that doubles each element in a list of numbers. For example, if you start with this list:\n",
        "\n",
        "numbers = [1, 2, 3, 4]\n",
        "\n",
        "You should end with this list:\n",
        "\n",
        "numbers = [2, 4, 6, 8]"
      ],
      "metadata": {
        "id": "TnyE4rZonU2H"
      }
    },
    {
      "cell_type": "code",
      "source": [
        "def main ():\n",
        "    numbers : list [int] = [1,2,3,4]\n",
        "\n",
        "    for i in range (len(numbers)):  # Loop through the indices of the list\n",
        "      elem_at_index = numbers[i]     # Get the element at index i in the numbers list\n",
        "      numbers[i] = elem_at_index *2  # Set the element at index i to be equal to the previous element times 2\n",
        "\n",
        "    print(numbers)  # This should print the doubled list\n",
        "\n",
        "\n",
        "if __name__ == \"__main__\":\n",
        "    main()"
      ],
      "metadata": {
        "colab": {
          "base_uri": "https://localhost:8080/"
        },
        "id": "FzMklkymnWDM",
        "outputId": "42fd8614-110e-44b0-bc7c-06b6384a6084"
      },
      "execution_count": 64,
      "outputs": [
        {
          "output_type": "stream",
          "name": "stdout",
          "text": [
            "[2, 4, 6, 8]\n"
          ]
        }
      ]
    }
  ]
}