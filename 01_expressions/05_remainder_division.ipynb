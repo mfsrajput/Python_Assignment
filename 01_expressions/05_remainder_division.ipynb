{
  "nbformat": 4,
  "nbformat_minor": 0,
  "metadata": {
    "colab": {
      "provenance": [],
      "authorship_tag": "ABX9TyNjj1X9hxFhPPdGkJzBfOWp",
      "include_colab_link": true
    },
    "kernelspec": {
      "name": "python3",
      "display_name": "Python 3"
    },
    "language_info": {
      "name": "python"
    }
  },
  "cells": [
    {
      "cell_type": "markdown",
      "metadata": {
        "id": "view-in-github",
        "colab_type": "text"
      },
      "source": [
        "<a href=\"https://colab.research.google.com/github/mfsrajput/Python_Assignment/blob/main/01_expressions/05_remainder_division.ipynb\" target=\"_parent\"><img src=\"https://colab.research.google.com/assets/colab-badge.svg\" alt=\"Open In Colab\"/></a>"
      ]
    },
    {
      "cell_type": "markdown",
      "source": [
        "Problem Statement\n",
        "Ask the user for two numbers, one at a time, and then print the result of dividing the first number by the second and also the remainder of the division.\n",
        "\n",
        "Here's a sample run of the program (user input is in bold italics):\n",
        "\n",
        "Please enter an integer to be divided: 5\n",
        "\n",
        "Please enter an integer to divide by: 3\n",
        "\n",
        "The result of this division is 1 with a remainder of 2\n",
        "\n"
      ],
      "metadata": {
        "id": "xMhlKzMpHjXS"
      }
    },
    {
      "cell_type": "code",
      "source": [
        "def main():\n",
        "    # Get the numbers we want to divide\n",
        "    dividend : int = int(input(\"Please enter an integer to be divided: \"))\n",
        "    divisor : int = int(input(\"Please enter an integer to divide by: \"))\n",
        "\n",
        "    qoutient : int = dividend // divisor  # Divide with no remainder/decimals (integer division)\n",
        "    remainder: int = dividend % divisor  # Get the remainder of the division (modulo)\n",
        "\n",
        "    print (\"The result of this division is \" + str(qoutient) + \" with a reminder of \" + str(remainder))\n",
        "\n",
        "\n",
        "if __name__ == \"__main__\":\n",
        "  main()"
      ],
      "metadata": {
        "colab": {
          "base_uri": "https://localhost:8080/"
        },
        "id": "P3iWCILlHtmM",
        "outputId": "b1cd3ff1-7c8e-41b0-ecce-0298d8285c88"
      },
      "execution_count": 13,
      "outputs": [
        {
          "output_type": "stream",
          "name": "stdout",
          "text": [
            "Please enter an integer to be divided: 125\n",
            "Please enter an integer to divide by: 2\n",
            "The result of this division is 62 with a reminder of 1\n"
          ]
        }
      ]
    }
  ]
}