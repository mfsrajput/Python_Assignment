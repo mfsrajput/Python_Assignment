{
  "nbformat": 4,
  "nbformat_minor": 0,
  "metadata": {
    "colab": {
      "provenance": [],
      "authorship_tag": "ABX9TyPGq+EviDIw8Hw6ztja0WYN",
      "include_colab_link": true
    },
    "kernelspec": {
      "name": "python3",
      "display_name": "Python 3"
    },
    "language_info": {
      "name": "python"
    }
  },
  "cells": [
    {
      "cell_type": "markdown",
      "metadata": {
        "id": "view-in-github",
        "colab_type": "text"
      },
      "source": [
        "<a href=\"https://colab.research.google.com/github/mfsrajput/Python_Assignment/blob/main/01_expressions/02_e%3Dmc2.ipynb\" target=\"_parent\"><img src=\"https://colab.research.google.com/assets/colab-badge.svg\" alt=\"Open In Colab\"/></a>"
      ]
    },
    {
      "cell_type": "markdown",
      "source": [
        "Problem Statement\n",
        "Write a program that continually reads in mass from the user and then outputs the equivalent energy using Einstein's mass-energy equivalence formula (E stands for energy, m stands for mass, and C is the speed of light:\n",
        "\n",
        "E = m * c**2\n",
        "\n",
        "Almost 100 years ago, Albert Einstein famously discovered that mass and energy are interchangeable and are related by the above equation. You should ask the user for mass (m) in kilograms and use a constant value for the speed of light -- C = 299792458 m/s.\n",
        "\n",
        "Here's a sample run of the program (user input is in bold italics):\n",
        "\n",
        "Enter kilos of mass: 100\n",
        "\n",
        "e = m * C^2...\n",
        "\n",
        "m = 100.0 kg\n",
        "\n",
        "C = 299792458 m/s\n",
        "\n",
        "8.987551787368176e+18 joules of energy!\n",
        "\n"
      ],
      "metadata": {
        "id": "wlsqoF3Z3Iuw"
      }
    },
    {
      "cell_type": "code",
      "source": [
        "C: int = 299792458  # The speed of light in m/s\n",
        "\n",
        "def main():\n",
        "  mass_in_kg = float(input(\"Enter Kilos of mass: \"))\n",
        "  # Calculate energy\n",
        "  # equivalently energy = mass * (C ** 2)\n",
        "  # using the ** operator to raise C to the power of 2\n",
        "  energy_in_joules: float = mass_in_kg * (C ** 2)\n",
        "  # Display work to the user\n",
        "  print(\"e = m * C^2...\")\n",
        "  print(\"m = \" + str(mass_in_kg) + \" kg\")\n",
        "  print(\"C = \" + str(C) + \" m/s\")\n",
        "  print(str(energy_in_joules) + \" joules of energy!\")\n",
        "\n",
        "if __name__ == '__main__':\n",
        "    main()"
      ],
      "metadata": {
        "colab": {
          "base_uri": "https://localhost:8080/"
        },
        "id": "LGzDsrz53PI_",
        "outputId": "4a1afc88-8d2b-4f2e-be6f-9b9b711ad93c"
      },
      "execution_count": 5,
      "outputs": [
        {
          "output_type": "stream",
          "name": "stdout",
          "text": [
            "Enter Kilos of mass: 20\n",
            "e = m * C^2...\n",
            "m = 20.0 kg\n",
            "C = 299792458 m/s\n",
            "1.7975103574736353e+18 joules of energy!\n"
          ]
        }
      ]
    }
  ]
}